{
 "cells": [
  {
   "cell_type": "markdown",
   "metadata": {},
   "source": [
    "<img src=\"logo.png\" width=\"300\"/>\n",
    "\n",
    "# Introdução ao Dash\n",
    "\n",
    "\n",
    "Dash é uma Framework Python criada para viabilizar a construção de aplicativos analíticos web.\n",
    "\n",
    "Escrito sobre Flask, Plotly.js e React.js, Dash é ideal para construir aplicativos de visualização de dados com interfaces de usuário altamente personalizadas em Python puro. É particularmente adequado para quem trabalha com dados em Python.\n",
    "\n",
    "\n",
    "## Instalando o Dash\n",
    "\n",
    "Para instalar o Dash, basta executar o seguinte comando:\n",
    "\n",
    "`` pip install dash==1.17.0``\n",
    "\n",
    "ou\n",
    "\n",
    "`` pip3 install dash==1.17.0 ``\n"
   ]
  },
  {
   "cell_type": "markdown",
   "metadata": {},
   "source": [
    "___"
   ]
  },
  {
   "cell_type": "markdown",
   "metadata": {},
   "source": [
    "## Layout Dash\n",
    "\n",
    "Os aplicativos escritos com Dash contém dois elementos básicos. A primeira parte, o `Layout` descreve a forma como tudo será disposto no app; a segunda parte especifica a interatividade do app.\n",
    "\n",
    "O Dash nos entrega duas classes para a criação de elementos visuais: `dash_core_components` e `dash_html_components`. Aprenderemos mais detalhes das duas na prática."
   ]
  },
  {
   "cell_type": "code",
   "execution_count": null,
   "metadata": {},
   "outputs": [],
   "source": []
  }
 ],
 "metadata": {
  "kernelspec": {
   "display_name": "Python 3 (ipykernel)",
   "language": "python",
   "name": "python3"
  },
  "language_info": {
   "codemirror_mode": {
    "name": "ipython",
    "version": 3
   },
   "file_extension": ".py",
   "mimetype": "text/x-python",
   "name": "python",
   "nbconvert_exporter": "python",
   "pygments_lexer": "ipython3",
   "version": "3.9.10"
  }
 },
 "nbformat": 4,
 "nbformat_minor": 4
}
